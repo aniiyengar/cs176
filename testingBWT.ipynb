{
 "cells": [
  {
   "cell_type": "code",
   "execution_count": 15,
   "metadata": {},
   "outputs": [],
   "source": [
    "def get_suffix_array(s):\n",
    "    \"\"\"\n",
    "    Naive implementation of suffix array generation (0-indexed). You do not have to implement the\n",
    "    KS Algorithm. Make this code fast enough so you have enough time in Aligner.__init__ (see bottom).\n",
    "\n",
    "    Input:\n",
    "        s: a string of the alphabet ['A', 'C', 'G', 'T'] already terminated by a unique delimiter '$'\n",
    "    \n",
    "    Output: list of indices representing the suffix array\n",
    "\n",
    "    >>> get_suffix_array('GATAGACA$')\n",
    "    [8, 7, 5, 3, 1, 6, 4, 0, 2]\n",
    "    \"\"\"\n",
    "    suffixes = [(s[i:], i) for i in range(len(s))]\n",
    "    suffixes = sorted(suffixes)\n",
    "    return [i[1] for i in suffixes]\n",
    "\n",
    "def get_bwt(s, sa):\n",
    "    \"\"\"\n",
    "    Input:\n",
    "        s: a string terminated by a unique delimiter '$'\n",
    "        sa: the suffix array of s\n",
    "\n",
    "    Output:\n",
    "        L: BWT of s as a string\n",
    "    \"\"\"\n",
    "    return ''.join([s[i-1] for i in sa])\n",
    "\n",
    "def get_F(L):\n",
    "    \"\"\"\n",
    "    Input: L = get_bwt(s)\n",
    "\n",
    "    Output: F, first column in Pi_sorted\n",
    "    \"\"\"\n",
    "    return ''.join(sorted(list(L)))\n",
    "\n",
    "def get_M(F):\n",
    "    \"\"\"\n",
    "    Returns the helper data structure M (using the notation from class). M is a dictionary that maps character\n",
    "    strings to start indices. i.e. M[c] is the first occurrence of \"c\" in F.\n",
    "\n",
    "    If a character \"c\" does not exist in F, you may set M[c] = -1\n",
    "    \"\"\"\n",
    "    M = {}\n",
    "    for i in range(len(F)):\n",
    "        char = F[i]\n",
    "        if char not in M:\n",
    "            M[char] = i\n",
    "    for char in ALPHABET:\n",
    "        if char not in M:\n",
    "            M[char] = -1\n",
    "\n",
    "def get_occ(L):\n",
    "    \"\"\"\n",
    "    Returns the helper data structure OCC (using the notation from class). OCC should be a dictionary that maps \n",
    "    string character to a list of integers. If c is a string character and i is an integer, then OCC[c][i] gives\n",
    "    the number of occurrences of character \"c\" in the bwt string up to and including index i\n",
    "    \"\"\"\n",
    "    occ = {i: [0] for i in ALPHABET}\n",
    "    for i in L:\n",
    "        for j in occ:\n",
    "            if i != j:\n",
    "                occ[j].append(occ[j][-1])\n",
    "            else:\n",
    "                occ[i].append(occ[i][-1]+1)\n",
    "    for i in occ:\n",
    "        occ[i].pop(0)\n",
    "    return occ\n",
    "def construct_L(M, occ):\n",
    "    length = 0\n",
    "    for char in occ:\n",
    "        length += char[-1]\n",
    "    L = ' '*length\n",
    "    for char in occ:\n",
    "        for i in range(char[-1]):\n",
    "            L[occ[char].index(i+1)] = char\n",
    "    return L\n",
    "ALPHABET=['A','T','C','G','$']"
   ]
  },
  {
   "cell_type": "code",
   "execution_count": 8,
   "metadata": {},
   "outputs": [
    {
     "data": {
      "text/plain": [
       "[8, 7, 5, 3, 1, 6, 4, 0, 2]"
      ]
     },
     "execution_count": 8,
     "metadata": {},
     "output_type": "execute_result"
    }
   ],
   "source": [
    "get_suffix_array('GATAGACA$')"
   ]
  },
  {
   "cell_type": "code",
   "execution_count": null,
   "metadata": {},
   "outputs": [],
   "source": [
    "for i in 'GATAG'"
   ]
  },
  {
   "cell_type": "code",
   "execution_count": 31,
   "metadata": {},
   "outputs": [],
   "source": [
    "def construct_L(M, occ):\n",
    "    length = 0\n",
    "    for char in occ:\n",
    "        length += occ[char][-1]\n",
    "    L = ['']*length\n",
    "    for char in occ:\n",
    "        for i in range(occ[char][-1]):\n",
    "            L[occ[char].index(i+1)] = char\n",
    "    return ''.join(L)"
   ]
  },
  {
   "cell_type": "code",
   "execution_count": 32,
   "metadata": {},
   "outputs": [],
   "source": [
    "s = 'GACTACGTAAC$'\n",
    "L = get_bwt(s,get_suffix_array(s))"
   ]
  },
  {
   "cell_type": "code",
   "execution_count": 33,
   "metadata": {},
   "outputs": [
    {
     "data": {
      "text/plain": [
       "'CTATGAAA$CGC'"
      ]
     },
     "execution_count": 33,
     "metadata": {},
     "output_type": "execute_result"
    }
   ],
   "source": [
    "construct_L(get_M(get_F(L)), get_occ(L))"
   ]
  },
  {
   "cell_type": "code",
   "execution_count": 27,
   "metadata": {},
   "outputs": [
    {
     "data": {
      "text/plain": [
       "'CTATGAAA$CGC'"
      ]
     },
     "execution_count": 27,
     "metadata": {},
     "output_type": "execute_result"
    }
   ],
   "source": [
    "L"
   ]
  },
  {
   "cell_type": "code",
   "execution_count": null,
   "metadata": {},
   "outputs": [],
   "source": []
  }
 ],
 "metadata": {
  "kernelspec": {
   "display_name": "Python 3",
   "language": "python",
   "name": "python3"
  },
  "language_info": {
   "codemirror_mode": {
    "name": "ipython",
    "version": 3
   },
   "file_extension": ".py",
   "mimetype": "text/x-python",
   "name": "python",
   "nbconvert_exporter": "python",
   "pygments_lexer": "ipython3",
   "version": "3.6.4"
  }
 },
 "nbformat": 4,
 "nbformat_minor": 2
}
